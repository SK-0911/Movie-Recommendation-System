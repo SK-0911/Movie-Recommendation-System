{
  "nbformat": 4,
  "nbformat_minor": 0,
  "metadata": {
    "colab": {
      "provenance": [],
      "authorship_tag": "ABX9TyOj5eykHNay/Oqx9RgEly8U",
      "include_colab_link": true
    },
    "kernelspec": {
      "name": "python3",
      "display_name": "Python 3"
    },
    "language_info": {
      "name": "python"
    }
  },
  "cells": [
    {
      "cell_type": "markdown",
      "metadata": {
        "id": "view-in-github",
        "colab_type": "text"
      },
      "source": [
        "<a href=\"https://colab.research.google.com/github/SK-0911/Movie-Recommendation-System/blob/main/Movie_Recommendation_System.ipynb\" target=\"_parent\"><img src=\"https://colab.research.google.com/assets/colab-badge.svg\" alt=\"Open In Colab\"/></a>"
      ]
    },
    {
      "cell_type": "markdown",
      "source": [
        "# **Movie Recommendation System**"
      ],
      "metadata": {
        "id": "iAYrNIV6qzHd"
      }
    },
    {
      "cell_type": "markdown",
      "source": [
        "**Recommender System** is a system that seeks to predict or filter preferences according to the user's choices. Recommender systems are\n",
        "utilized in a variety of areas including movies, music, news, books, research articles, search queries, social tags, and products in general.\n",
        "Recommender systems produce a list of recommendations in any of the two ways -\n",
        "\n",
        "**Collaborative filtering:** Collaborative filtering approaches build a model from the user's past behavior (i.e. items purchased or searched by the\n",
        "user) as well as similar decisions made by other users. This model is then used to predict items (or ratings for items) that users may have an\n",
        "interest in\n",
        "\n",
        "**Content-based filtering:** Content-based filtering approaches uses a series of discrete characteristics of an item in order to recommend\n",
        "additional items with similar properties. Content-based filtering methods are totally based on a description of the item and a profile of the user's\n",
        "preferences. It recommends items based on the user's past preferences. Let's develop a basic recommendation system using Python and\n",
        "Pandas.\n",
        "\n",
        "Let's develop a basic recommendation system by suggesting items that are most similar to a particular item, in this case, movies. It just tells\n",
        "what movies/items are most similar to the user's movie choice,"
      ],
      "metadata": {
        "id": "WQb_XkLpD26D"
      }
    },
    {
      "cell_type": "markdown",
      "source": [
        "# Import Library"
      ],
      "metadata": {
        "id": "vxUzR-erEXX8"
      }
    },
    {
      "cell_type": "code",
      "source": [
        "import pandas as pd\n",
        "import numpy as np"
      ],
      "metadata": {
        "id": "K84COvxpEXEi"
      },
      "execution_count": null,
      "outputs": []
    },
    {
      "cell_type": "markdown",
      "source": [
        "# Import Dataset"
      ],
      "metadata": {
        "id": "L7y8P07MErSy"
      }
    },
    {
      "cell_type": "code",
      "source": [
        "df = pd.read_csv('https://github.com/YBI-Foundation/Dataset/raw/main/Movies%20Recommendation.csv')\n",
        "df.head(3)"
      ],
      "metadata": {
        "colab": {
          "base_uri": "https://localhost:8080/",
          "height": 462
        },
        "id": "XU-7u79Hq8Eg",
        "outputId": "5c21459a-93b5-4b15-b422-254b2cd64e93"
      },
      "execution_count": null,
      "outputs": [
        {
          "output_type": "execute_result",
          "data": {
            "text/plain": [
              "   Movie_ID   Movie_Title                       Movie_Genre Movie_Language  \\\n",
              "0         1    Four Rooms                      Crime Comedy             en   \n",
              "1         2     Star Wars  Adventure Action Science Fiction             en   \n",
              "2         3  Finding Nemo                  Animation Family             en   \n",
              "\n",
              "   Movie_Budget  Movie_Popularity Movie_Release_Date  Movie_Revenue  \\\n",
              "0       4000000         22.876230         09-12-1995        4300000   \n",
              "1      11000000        126.393695         25-05-1977      775398007   \n",
              "2      94000000         85.688789         30-05-2003      940335536   \n",
              "\n",
              "   Movie_Runtime  Movie_Vote  ...  \\\n",
              "0           98.0         6.5  ...   \n",
              "1          121.0         8.1  ...   \n",
              "2          100.0         7.6  ...   \n",
              "\n",
              "                                      Movie_Homepage  \\\n",
              "0                                                NaN   \n",
              "1  http://www.starwars.com/films/star-wars-episod...   \n",
              "2              http://movies.disney.com/finding-nemo   \n",
              "\n",
              "                                      Movie_Keywords  \\\n",
              "0          hotel new year's eve witch bet hotel room   \n",
              "1        android galaxy hermit death star lightsaber   \n",
              "2  father son relationship harbor underwater fish...   \n",
              "\n",
              "                                      Movie_Overview  \\\n",
              "0  It's Ted the Bellhop's first night on the job....   \n",
              "1  Princess Leia is captured and held hostage by ...   \n",
              "2  Nemo, an adventurous young clownfish, is unexp...   \n",
              "\n",
              "                              Movie_Production_House  \\\n",
              "0  [{\"name\": \"Miramax Films\", \"id\": 14}, {\"name\":...   \n",
              "1  [{\"name\": \"Lucasfilm\", \"id\": 1}, {\"name\": \"Twe...   \n",
              "2     [{\"name\": \"Pixar Animation Studios\", \"id\": 3}]   \n",
              "\n",
              "                            Movie_Production_Country  \\\n",
              "0  [{\"iso_3166_1\": \"US\", \"name\": \"United States o...   \n",
              "1  [{\"iso_3166_1\": \"US\", \"name\": \"United States o...   \n",
              "2  [{\"iso_3166_1\": \"US\", \"name\": \"United States o...   \n",
              "\n",
              "                      Movie_Spoken_Language  \\\n",
              "0  [{\"iso_639_1\": \"en\", \"name\": \"English\"}]   \n",
              "1  [{\"iso_639_1\": \"en\", \"name\": \"English\"}]   \n",
              "2  [{\"iso_639_1\": \"en\", \"name\": \"English\"}]   \n",
              "\n",
              "                                       Movie_Tagline  \\\n",
              "0  Twelve outrageous guests. Four scandalous requ...   \n",
              "1       A long time ago in a galaxy far, far away...   \n",
              "2  There are 3.7 trillion fish in the ocean, they...   \n",
              "\n",
              "                                          Movie_Cast  \\\n",
              "0  Tim Roth Antonio Banderas Jennifer Beals Madon...   \n",
              "1  Mark Hamill Harrison Ford Carrie Fisher Peter ...   \n",
              "2  Albert Brooks Ellen DeGeneres Alexander Gould ...   \n",
              "\n",
              "                                          Movie_Crew  Movie_Director  \n",
              "0  [{'name': 'Allison Anders', 'gender': 1, 'depa...  Allison Anders  \n",
              "1  [{'name': 'George Lucas', 'gender': 2, 'depart...    George Lucas  \n",
              "2  [{'name': 'Andrew Stanton', 'gender': 2, 'depa...  Andrew Stanton  \n",
              "\n",
              "[3 rows x 21 columns]"
            ],
            "text/html": [
              "\n",
              "  <div id=\"df-a52fd084-5d19-43cf-b5c3-a604daaf3bd2\">\n",
              "    <div class=\"colab-df-container\">\n",
              "      <div>\n",
              "<style scoped>\n",
              "    .dataframe tbody tr th:only-of-type {\n",
              "        vertical-align: middle;\n",
              "    }\n",
              "\n",
              "    .dataframe tbody tr th {\n",
              "        vertical-align: top;\n",
              "    }\n",
              "\n",
              "    .dataframe thead th {\n",
              "        text-align: right;\n",
              "    }\n",
              "</style>\n",
              "<table border=\"1\" class=\"dataframe\">\n",
              "  <thead>\n",
              "    <tr style=\"text-align: right;\">\n",
              "      <th></th>\n",
              "      <th>Movie_ID</th>\n",
              "      <th>Movie_Title</th>\n",
              "      <th>Movie_Genre</th>\n",
              "      <th>Movie_Language</th>\n",
              "      <th>Movie_Budget</th>\n",
              "      <th>Movie_Popularity</th>\n",
              "      <th>Movie_Release_Date</th>\n",
              "      <th>Movie_Revenue</th>\n",
              "      <th>Movie_Runtime</th>\n",
              "      <th>Movie_Vote</th>\n",
              "      <th>...</th>\n",
              "      <th>Movie_Homepage</th>\n",
              "      <th>Movie_Keywords</th>\n",
              "      <th>Movie_Overview</th>\n",
              "      <th>Movie_Production_House</th>\n",
              "      <th>Movie_Production_Country</th>\n",
              "      <th>Movie_Spoken_Language</th>\n",
              "      <th>Movie_Tagline</th>\n",
              "      <th>Movie_Cast</th>\n",
              "      <th>Movie_Crew</th>\n",
              "      <th>Movie_Director</th>\n",
              "    </tr>\n",
              "  </thead>\n",
              "  <tbody>\n",
              "    <tr>\n",
              "      <th>0</th>\n",
              "      <td>1</td>\n",
              "      <td>Four Rooms</td>\n",
              "      <td>Crime Comedy</td>\n",
              "      <td>en</td>\n",
              "      <td>4000000</td>\n",
              "      <td>22.876230</td>\n",
              "      <td>09-12-1995</td>\n",
              "      <td>4300000</td>\n",
              "      <td>98.0</td>\n",
              "      <td>6.5</td>\n",
              "      <td>...</td>\n",
              "      <td>NaN</td>\n",
              "      <td>hotel new year's eve witch bet hotel room</td>\n",
              "      <td>It's Ted the Bellhop's first night on the job....</td>\n",
              "      <td>[{\"name\": \"Miramax Films\", \"id\": 14}, {\"name\":...</td>\n",
              "      <td>[{\"iso_3166_1\": \"US\", \"name\": \"United States o...</td>\n",
              "      <td>[{\"iso_639_1\": \"en\", \"name\": \"English\"}]</td>\n",
              "      <td>Twelve outrageous guests. Four scandalous requ...</td>\n",
              "      <td>Tim Roth Antonio Banderas Jennifer Beals Madon...</td>\n",
              "      <td>[{'name': 'Allison Anders', 'gender': 1, 'depa...</td>\n",
              "      <td>Allison Anders</td>\n",
              "    </tr>\n",
              "    <tr>\n",
              "      <th>1</th>\n",
              "      <td>2</td>\n",
              "      <td>Star Wars</td>\n",
              "      <td>Adventure Action Science Fiction</td>\n",
              "      <td>en</td>\n",
              "      <td>11000000</td>\n",
              "      <td>126.393695</td>\n",
              "      <td>25-05-1977</td>\n",
              "      <td>775398007</td>\n",
              "      <td>121.0</td>\n",
              "      <td>8.1</td>\n",
              "      <td>...</td>\n",
              "      <td>http://www.starwars.com/films/star-wars-episod...</td>\n",
              "      <td>android galaxy hermit death star lightsaber</td>\n",
              "      <td>Princess Leia is captured and held hostage by ...</td>\n",
              "      <td>[{\"name\": \"Lucasfilm\", \"id\": 1}, {\"name\": \"Twe...</td>\n",
              "      <td>[{\"iso_3166_1\": \"US\", \"name\": \"United States o...</td>\n",
              "      <td>[{\"iso_639_1\": \"en\", \"name\": \"English\"}]</td>\n",
              "      <td>A long time ago in a galaxy far, far away...</td>\n",
              "      <td>Mark Hamill Harrison Ford Carrie Fisher Peter ...</td>\n",
              "      <td>[{'name': 'George Lucas', 'gender': 2, 'depart...</td>\n",
              "      <td>George Lucas</td>\n",
              "    </tr>\n",
              "    <tr>\n",
              "      <th>2</th>\n",
              "      <td>3</td>\n",
              "      <td>Finding Nemo</td>\n",
              "      <td>Animation Family</td>\n",
              "      <td>en</td>\n",
              "      <td>94000000</td>\n",
              "      <td>85.688789</td>\n",
              "      <td>30-05-2003</td>\n",
              "      <td>940335536</td>\n",
              "      <td>100.0</td>\n",
              "      <td>7.6</td>\n",
              "      <td>...</td>\n",
              "      <td>http://movies.disney.com/finding-nemo</td>\n",
              "      <td>father son relationship harbor underwater fish...</td>\n",
              "      <td>Nemo, an adventurous young clownfish, is unexp...</td>\n",
              "      <td>[{\"name\": \"Pixar Animation Studios\", \"id\": 3}]</td>\n",
              "      <td>[{\"iso_3166_1\": \"US\", \"name\": \"United States o...</td>\n",
              "      <td>[{\"iso_639_1\": \"en\", \"name\": \"English\"}]</td>\n",
              "      <td>There are 3.7 trillion fish in the ocean, they...</td>\n",
              "      <td>Albert Brooks Ellen DeGeneres Alexander Gould ...</td>\n",
              "      <td>[{'name': 'Andrew Stanton', 'gender': 2, 'depa...</td>\n",
              "      <td>Andrew Stanton</td>\n",
              "    </tr>\n",
              "  </tbody>\n",
              "</table>\n",
              "<p>3 rows × 21 columns</p>\n",
              "</div>\n",
              "      <button class=\"colab-df-convert\" onclick=\"convertToInteractive('df-a52fd084-5d19-43cf-b5c3-a604daaf3bd2')\"\n",
              "              title=\"Convert this dataframe to an interactive table.\"\n",
              "              style=\"display:none;\">\n",
              "        \n",
              "  <svg xmlns=\"http://www.w3.org/2000/svg\" height=\"24px\"viewBox=\"0 0 24 24\"\n",
              "       width=\"24px\">\n",
              "    <path d=\"M0 0h24v24H0V0z\" fill=\"none\"/>\n",
              "    <path d=\"M18.56 5.44l.94 2.06.94-2.06 2.06-.94-2.06-.94-.94-2.06-.94 2.06-2.06.94zm-11 1L8.5 8.5l.94-2.06 2.06-.94-2.06-.94L8.5 2.5l-.94 2.06-2.06.94zm10 10l.94 2.06.94-2.06 2.06-.94-2.06-.94-.94-2.06-.94 2.06-2.06.94z\"/><path d=\"M17.41 7.96l-1.37-1.37c-.4-.4-.92-.59-1.43-.59-.52 0-1.04.2-1.43.59L10.3 9.45l-7.72 7.72c-.78.78-.78 2.05 0 2.83L4 21.41c.39.39.9.59 1.41.59.51 0 1.02-.2 1.41-.59l7.78-7.78 2.81-2.81c.8-.78.8-2.07 0-2.86zM5.41 20L4 18.59l7.72-7.72 1.47 1.35L5.41 20z\"/>\n",
              "  </svg>\n",
              "      </button>\n",
              "      \n",
              "  <style>\n",
              "    .colab-df-container {\n",
              "      display:flex;\n",
              "      flex-wrap:wrap;\n",
              "      gap: 12px;\n",
              "    }\n",
              "\n",
              "    .colab-df-convert {\n",
              "      background-color: #E8F0FE;\n",
              "      border: none;\n",
              "      border-radius: 50%;\n",
              "      cursor: pointer;\n",
              "      display: none;\n",
              "      fill: #1967D2;\n",
              "      height: 32px;\n",
              "      padding: 0 0 0 0;\n",
              "      width: 32px;\n",
              "    }\n",
              "\n",
              "    .colab-df-convert:hover {\n",
              "      background-color: #E2EBFA;\n",
              "      box-shadow: 0px 1px 2px rgba(60, 64, 67, 0.3), 0px 1px 3px 1px rgba(60, 64, 67, 0.15);\n",
              "      fill: #174EA6;\n",
              "    }\n",
              "\n",
              "    [theme=dark] .colab-df-convert {\n",
              "      background-color: #3B4455;\n",
              "      fill: #D2E3FC;\n",
              "    }\n",
              "\n",
              "    [theme=dark] .colab-df-convert:hover {\n",
              "      background-color: #434B5C;\n",
              "      box-shadow: 0px 1px 3px 1px rgba(0, 0, 0, 0.15);\n",
              "      filter: drop-shadow(0px 1px 2px rgba(0, 0, 0, 0.3));\n",
              "      fill: #FFFFFF;\n",
              "    }\n",
              "  </style>\n",
              "\n",
              "      <script>\n",
              "        const buttonEl =\n",
              "          document.querySelector('#df-a52fd084-5d19-43cf-b5c3-a604daaf3bd2 button.colab-df-convert');\n",
              "        buttonEl.style.display =\n",
              "          google.colab.kernel.accessAllowed ? 'block' : 'none';\n",
              "\n",
              "        async function convertToInteractive(key) {\n",
              "          const element = document.querySelector('#df-a52fd084-5d19-43cf-b5c3-a604daaf3bd2');\n",
              "          const dataTable =\n",
              "            await google.colab.kernel.invokeFunction('convertToInteractive',\n",
              "                                                     [key], {});\n",
              "          if (!dataTable) return;\n",
              "\n",
              "          const docLinkHtml = 'Like what you see? Visit the ' +\n",
              "            '<a target=\"_blank\" href=https://colab.research.google.com/notebooks/data_table.ipynb>data table notebook</a>'\n",
              "            + ' to learn more about interactive tables.';\n",
              "          element.innerHTML = '';\n",
              "          dataTable['output_type'] = 'display_data';\n",
              "          await google.colab.output.renderOutput(dataTable, element);\n",
              "          const docLink = document.createElement('div');\n",
              "          docLink.innerHTML = docLinkHtml;\n",
              "          element.appendChild(docLink);\n",
              "        }\n",
              "      </script>\n",
              "    </div>\n",
              "  </div>\n",
              "  "
            ]
          },
          "metadata": {},
          "execution_count": 3
        }
      ]
    },
    {
      "cell_type": "code",
      "source": [
        "df.info()"
      ],
      "metadata": {
        "colab": {
          "base_uri": "https://localhost:8080/"
        },
        "id": "TDPG7MCLOw9e",
        "outputId": "3443ef43-6c41-40c1-cda0-ef338a57e3cf"
      },
      "execution_count": null,
      "outputs": [
        {
          "output_type": "stream",
          "name": "stdout",
          "text": [
            "<class 'pandas.core.frame.DataFrame'>\n",
            "RangeIndex: 4760 entries, 0 to 4759\n",
            "Data columns (total 21 columns):\n",
            " #   Column                    Non-Null Count  Dtype  \n",
            "---  ------                    --------------  -----  \n",
            " 0   Movie_ID                  4760 non-null   int64  \n",
            " 1   Movie_Title               4760 non-null   object \n",
            " 2   Movie_Genre               4760 non-null   object \n",
            " 3   Movie_Language            4760 non-null   object \n",
            " 4   Movie_Budget              4760 non-null   int64  \n",
            " 5   Movie_Popularity          4760 non-null   float64\n",
            " 6   Movie_Release_Date        4760 non-null   object \n",
            " 7   Movie_Revenue             4760 non-null   int64  \n",
            " 8   Movie_Runtime             4758 non-null   float64\n",
            " 9   Movie_Vote                4760 non-null   float64\n",
            " 10  Movie_Vote_Count          4760 non-null   int64  \n",
            " 11  Movie_Homepage            1699 non-null   object \n",
            " 12  Movie_Keywords            4373 non-null   object \n",
            " 13  Movie_Overview            4757 non-null   object \n",
            " 14  Movie_Production_House    4760 non-null   object \n",
            " 15  Movie_Production_Country  4760 non-null   object \n",
            " 16  Movie_Spoken_Language     4760 non-null   object \n",
            " 17  Movie_Tagline             3942 non-null   object \n",
            " 18  Movie_Cast                4733 non-null   object \n",
            " 19  Movie_Crew                4760 non-null   object \n",
            " 20  Movie_Director            4738 non-null   object \n",
            "dtypes: float64(3), int64(4), object(14)\n",
            "memory usage: 781.1+ KB\n"
          ]
        }
      ]
    },
    {
      "cell_type": "code",
      "source": [
        "df.isnull().sum()"
      ],
      "metadata": {
        "colab": {
          "base_uri": "https://localhost:8080/"
        },
        "id": "UuxtBdRhYkBW",
        "outputId": "50a8fc33-a611-48e2-aa58-a8dc575cf930"
      },
      "execution_count": null,
      "outputs": [
        {
          "output_type": "execute_result",
          "data": {
            "text/plain": [
              "Movie_ID                       0\n",
              "Movie_Title                    0\n",
              "Movie_Genre                    0\n",
              "Movie_Language                 0\n",
              "Movie_Budget                   0\n",
              "Movie_Popularity               0\n",
              "Movie_Release_Date             0\n",
              "Movie_Revenue                  0\n",
              "Movie_Runtime                  2\n",
              "Movie_Vote                     0\n",
              "Movie_Vote_Count               0\n",
              "Movie_Homepage              3061\n",
              "Movie_Keywords               387\n",
              "Movie_Overview                 3\n",
              "Movie_Production_House         0\n",
              "Movie_Production_Country       0\n",
              "Movie_Spoken_Language          0\n",
              "Movie_Tagline                818\n",
              "Movie_Cast                    27\n",
              "Movie_Crew                     0\n",
              "Movie_Director                22\n",
              "dtype: int64"
            ]
          },
          "metadata": {},
          "execution_count": 9
        }
      ]
    },
    {
      "cell_type": "code",
      "source": [
        "df.shape"
      ],
      "metadata": {
        "colab": {
          "base_uri": "https://localhost:8080/"
        },
        "id": "LgKYsGEgQ3Vz",
        "outputId": "51d8cfc8-7aaa-4143-e177-0de9bfc47667"
      },
      "execution_count": null,
      "outputs": [
        {
          "output_type": "execute_result",
          "data": {
            "text/plain": [
              "(4760, 21)"
            ]
          },
          "metadata": {},
          "execution_count": 5
        }
      ]
    },
    {
      "cell_type": "code",
      "source": [
        "df.columns"
      ],
      "metadata": {
        "colab": {
          "base_uri": "https://localhost:8080/"
        },
        "id": "NmUCd_zJRdE-",
        "outputId": "bdaab355-caba-48d8-9d3a-c0a24ccabe46"
      },
      "execution_count": null,
      "outputs": [
        {
          "output_type": "execute_result",
          "data": {
            "text/plain": [
              "Index(['Movie_ID', 'Movie_Title', 'Movie_Genre', 'Movie_Language',\n",
              "       'Movie_Budget', 'Movie_Popularity', 'Movie_Release_Date',\n",
              "       'Movie_Revenue', 'Movie_Runtime', 'Movie_Vote', 'Movie_Vote_Count',\n",
              "       'Movie_Homepage', 'Movie_Keywords', 'Movie_Overview',\n",
              "       'Movie_Production_House', 'Movie_Production_Country',\n",
              "       'Movie_Spoken_Language', 'Movie_Tagline', 'Movie_Cast', 'Movie_Crew',\n",
              "       'Movie_Director'],\n",
              "      dtype='object')"
            ]
          },
          "metadata": {},
          "execution_count": 8
        }
      ]
    },
    {
      "cell_type": "markdown",
      "source": [
        "# Feature selection"
      ],
      "metadata": {
        "id": "0o5CLh6MQ2oJ"
      }
    },
    {
      "cell_type": "code",
      "source": [
        "features = df[['Movie_Genre', 'Movie_Language', 'Movie_Keywords', 'Movie_Cast', 'Movie_Director']].fillna('')"
      ],
      "metadata": {
        "id": "CALJP8uvUXJb"
      },
      "execution_count": null,
      "outputs": []
    },
    {
      "cell_type": "markdown",
      "source": [
        "Selected five existing features to recommend movies. It may vary from one project to another. Like one can add vote counts, budget, language\n",
        "etc."
      ],
      "metadata": {
        "id": "dmjvMmgPXiQd"
      }
    },
    {
      "cell_type": "code",
      "source": [
        "features.shape"
      ],
      "metadata": {
        "colab": {
          "base_uri": "https://localhost:8080/"
        },
        "id": "EQb-YkCKXjMY",
        "outputId": "aee5bd2f-28f1-4256-c8f1-9684730a6d78"
      },
      "execution_count": null,
      "outputs": [
        {
          "output_type": "execute_result",
          "data": {
            "text/plain": [
              "(4760, 5)"
            ]
          },
          "metadata": {},
          "execution_count": 11
        }
      ]
    },
    {
      "cell_type": "code",
      "source": [
        "features.head(3)"
      ],
      "metadata": {
        "colab": {
          "base_uri": "https://localhost:8080/",
          "height": 143
        },
        "id": "8nSsllHuY7JU",
        "outputId": "a5879703-2d74-4ead-b8ce-c916bb71df16"
      },
      "execution_count": null,
      "outputs": [
        {
          "output_type": "execute_result",
          "data": {
            "text/plain": [
              "                        Movie_Genre Movie_Language  \\\n",
              "0                      Crime Comedy             en   \n",
              "1  Adventure Action Science Fiction             en   \n",
              "2                  Animation Family             en   \n",
              "\n",
              "                                      Movie_Keywords  \\\n",
              "0          hotel new year's eve witch bet hotel room   \n",
              "1        android galaxy hermit death star lightsaber   \n",
              "2  father son relationship harbor underwater fish...   \n",
              "\n",
              "                                          Movie_Cast  Movie_Director  \n",
              "0  Tim Roth Antonio Banderas Jennifer Beals Madon...  Allison Anders  \n",
              "1  Mark Hamill Harrison Ford Carrie Fisher Peter ...    George Lucas  \n",
              "2  Albert Brooks Ellen DeGeneres Alexander Gould ...  Andrew Stanton  "
            ],
            "text/html": [
              "\n",
              "  <div id=\"df-5397e8ed-bda8-4b77-9b17-eeaf6ad8891a\">\n",
              "    <div class=\"colab-df-container\">\n",
              "      <div>\n",
              "<style scoped>\n",
              "    .dataframe tbody tr th:only-of-type {\n",
              "        vertical-align: middle;\n",
              "    }\n",
              "\n",
              "    .dataframe tbody tr th {\n",
              "        vertical-align: top;\n",
              "    }\n",
              "\n",
              "    .dataframe thead th {\n",
              "        text-align: right;\n",
              "    }\n",
              "</style>\n",
              "<table border=\"1\" class=\"dataframe\">\n",
              "  <thead>\n",
              "    <tr style=\"text-align: right;\">\n",
              "      <th></th>\n",
              "      <th>Movie_Genre</th>\n",
              "      <th>Movie_Language</th>\n",
              "      <th>Movie_Keywords</th>\n",
              "      <th>Movie_Cast</th>\n",
              "      <th>Movie_Director</th>\n",
              "    </tr>\n",
              "  </thead>\n",
              "  <tbody>\n",
              "    <tr>\n",
              "      <th>0</th>\n",
              "      <td>Crime Comedy</td>\n",
              "      <td>en</td>\n",
              "      <td>hotel new year's eve witch bet hotel room</td>\n",
              "      <td>Tim Roth Antonio Banderas Jennifer Beals Madon...</td>\n",
              "      <td>Allison Anders</td>\n",
              "    </tr>\n",
              "    <tr>\n",
              "      <th>1</th>\n",
              "      <td>Adventure Action Science Fiction</td>\n",
              "      <td>en</td>\n",
              "      <td>android galaxy hermit death star lightsaber</td>\n",
              "      <td>Mark Hamill Harrison Ford Carrie Fisher Peter ...</td>\n",
              "      <td>George Lucas</td>\n",
              "    </tr>\n",
              "    <tr>\n",
              "      <th>2</th>\n",
              "      <td>Animation Family</td>\n",
              "      <td>en</td>\n",
              "      <td>father son relationship harbor underwater fish...</td>\n",
              "      <td>Albert Brooks Ellen DeGeneres Alexander Gould ...</td>\n",
              "      <td>Andrew Stanton</td>\n",
              "    </tr>\n",
              "  </tbody>\n",
              "</table>\n",
              "</div>\n",
              "      <button class=\"colab-df-convert\" onclick=\"convertToInteractive('df-5397e8ed-bda8-4b77-9b17-eeaf6ad8891a')\"\n",
              "              title=\"Convert this dataframe to an interactive table.\"\n",
              "              style=\"display:none;\">\n",
              "        \n",
              "  <svg xmlns=\"http://www.w3.org/2000/svg\" height=\"24px\"viewBox=\"0 0 24 24\"\n",
              "       width=\"24px\">\n",
              "    <path d=\"M0 0h24v24H0V0z\" fill=\"none\"/>\n",
              "    <path d=\"M18.56 5.44l.94 2.06.94-2.06 2.06-.94-2.06-.94-.94-2.06-.94 2.06-2.06.94zm-11 1L8.5 8.5l.94-2.06 2.06-.94-2.06-.94L8.5 2.5l-.94 2.06-2.06.94zm10 10l.94 2.06.94-2.06 2.06-.94-2.06-.94-.94-2.06-.94 2.06-2.06.94z\"/><path d=\"M17.41 7.96l-1.37-1.37c-.4-.4-.92-.59-1.43-.59-.52 0-1.04.2-1.43.59L10.3 9.45l-7.72 7.72c-.78.78-.78 2.05 0 2.83L4 21.41c.39.39.9.59 1.41.59.51 0 1.02-.2 1.41-.59l7.78-7.78 2.81-2.81c.8-.78.8-2.07 0-2.86zM5.41 20L4 18.59l7.72-7.72 1.47 1.35L5.41 20z\"/>\n",
              "  </svg>\n",
              "      </button>\n",
              "      \n",
              "  <style>\n",
              "    .colab-df-container {\n",
              "      display:flex;\n",
              "      flex-wrap:wrap;\n",
              "      gap: 12px;\n",
              "    }\n",
              "\n",
              "    .colab-df-convert {\n",
              "      background-color: #E8F0FE;\n",
              "      border: none;\n",
              "      border-radius: 50%;\n",
              "      cursor: pointer;\n",
              "      display: none;\n",
              "      fill: #1967D2;\n",
              "      height: 32px;\n",
              "      padding: 0 0 0 0;\n",
              "      width: 32px;\n",
              "    }\n",
              "\n",
              "    .colab-df-convert:hover {\n",
              "      background-color: #E2EBFA;\n",
              "      box-shadow: 0px 1px 2px rgba(60, 64, 67, 0.3), 0px 1px 3px 1px rgba(60, 64, 67, 0.15);\n",
              "      fill: #174EA6;\n",
              "    }\n",
              "\n",
              "    [theme=dark] .colab-df-convert {\n",
              "      background-color: #3B4455;\n",
              "      fill: #D2E3FC;\n",
              "    }\n",
              "\n",
              "    [theme=dark] .colab-df-convert:hover {\n",
              "      background-color: #434B5C;\n",
              "      box-shadow: 0px 1px 3px 1px rgba(0, 0, 0, 0.15);\n",
              "      filter: drop-shadow(0px 1px 2px rgba(0, 0, 0, 0.3));\n",
              "      fill: #FFFFFF;\n",
              "    }\n",
              "  </style>\n",
              "\n",
              "      <script>\n",
              "        const buttonEl =\n",
              "          document.querySelector('#df-5397e8ed-bda8-4b77-9b17-eeaf6ad8891a button.colab-df-convert');\n",
              "        buttonEl.style.display =\n",
              "          google.colab.kernel.accessAllowed ? 'block' : 'none';\n",
              "\n",
              "        async function convertToInteractive(key) {\n",
              "          const element = document.querySelector('#df-5397e8ed-bda8-4b77-9b17-eeaf6ad8891a');\n",
              "          const dataTable =\n",
              "            await google.colab.kernel.invokeFunction('convertToInteractive',\n",
              "                                                     [key], {});\n",
              "          if (!dataTable) return;\n",
              "\n",
              "          const docLinkHtml = 'Like what you see? Visit the ' +\n",
              "            '<a target=\"_blank\" href=https://colab.research.google.com/notebooks/data_table.ipynb>data table notebook</a>'\n",
              "            + ' to learn more about interactive tables.';\n",
              "          element.innerHTML = '';\n",
              "          dataTable['output_type'] = 'display_data';\n",
              "          await google.colab.output.renderOutput(dataTable, element);\n",
              "          const docLink = document.createElement('div');\n",
              "          docLink.innerHTML = docLinkHtml;\n",
              "          element.appendChild(docLink);\n",
              "        }\n",
              "      </script>\n",
              "    </div>\n",
              "  </div>\n",
              "  "
            ]
          },
          "metadata": {},
          "execution_count": 12
        }
      ]
    },
    {
      "cell_type": "code",
      "source": [
        "X = features['Movie_Genre'] + ' ' + features['Movie_Language'] + ' '  + features['Movie_Keywords'] + ' ' + features['Movie_Cast'] + ' ' + features['Movie_Director']"
      ],
      "metadata": {
        "id": "gG04VNY4ZIqz"
      },
      "execution_count": null,
      "outputs": []
    },
    {
      "cell_type": "code",
      "source": [
        "X.head(3)"
      ],
      "metadata": {
        "colab": {
          "base_uri": "https://localhost:8080/"
        },
        "id": "NVjHEbp_cskV",
        "outputId": "66f3a9ca-fde0-41a5-c73a-89af87828c0b"
      },
      "execution_count": null,
      "outputs": [
        {
          "output_type": "execute_result",
          "data": {
            "text/plain": [
              "0    Crime Comedy en hotel new year's eve witch bet...\n",
              "1    Adventure Action Science Fiction en android ga...\n",
              "2    Animation Family en father son relationship ha...\n",
              "dtype: object"
            ]
          },
          "metadata": {},
          "execution_count": 14
        }
      ]
    },
    {
      "cell_type": "code",
      "source": [
        "X.shape"
      ],
      "metadata": {
        "colab": {
          "base_uri": "https://localhost:8080/"
        },
        "id": "1gBrGTlZcxPf",
        "outputId": "b4dfb77e-11db-4b71-df45-7705ef12f36b"
      },
      "execution_count": null,
      "outputs": [
        {
          "output_type": "execute_result",
          "data": {
            "text/plain": [
              "(4760,)"
            ]
          },
          "metadata": {},
          "execution_count": 15
        }
      ]
    },
    {
      "cell_type": "markdown",
      "source": [
        "# Convert Feature Text into Tokens"
      ],
      "metadata": {
        "id": "SjUYwemdJ1NO"
      }
    },
    {
      "cell_type": "code",
      "source": [
        "from sklearn.feature_extraction.text import TfidfVectorizer"
      ],
      "metadata": {
        "id": "j9sGYr_VJnbC"
      },
      "execution_count": null,
      "outputs": []
    },
    {
      "cell_type": "markdown",
      "source": [
        "## **TF-IDF**\n",
        "\n",
        "Term frequency-inverse document frequency is a text vectorizer that transforms the text into a usable vector. It combines 2 concepts, Term Frequency (TF) and Document Frequency (DF).\n",
        "\n",
        "The term frequency is the number of occurrences of a specific term in a document. Term frequency indicates how important a specific term in a document. Term frequency represents every text from the data as a matrix whose rows are the number of documents and columns are the number of distinct terms throughout all documents.\n",
        "\n",
        "Document frequency is the number of documents containing a specific term. Document frequency indicates how common the term is.\n",
        "\n",
        "Inverse document frequency (IDF) is the weight of a term, it aims to reduce the weight of a term if the term's occurrences are scattered throughout all the documents. IDF can be calculated as follow:"
      ],
      "metadata": {
        "id": "3b8IUPYofG9R"
      }
    },
    {
      "cell_type": "markdown",
      "source": [
        "![image.png](data:image/png;base64,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)"
      ],
      "metadata": {
        "id": "2_vdcaZxfNIU"
      }
    },
    {
      "cell_type": "markdown",
      "source": [
        "Where idfᵢ is the IDF score for term i, dfᵢ is the number of documents containing term i, and n is the total number of documents. The higher the DF of a term, the lower the IDF for the term. When the number of DF is equal to n which means that the term appears in all documents, the IDF will be zero, since log(1) is zero, when in doubt just put this term in the stopword list because it doesn't provide much information.\n",
        "\n",
        "The TF-IDF score as the name suggests is just a multiplication of the term frequency matrix with its IDF, it can be calculated as follow:"
      ],
      "metadata": {
        "id": "2STWt07afRT0"
      }
    },
    {
      "cell_type": "markdown",
      "source": [
        "![image.png](data:image/png;base64,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)"
      ],
      "metadata": {
        "id": "cO6PKAd5JiPV"
      }
    },
    {
      "cell_type": "markdown",
      "source": [
        "Where wᵢⱼ is TF-IDF score for term i in document j, tfᵢⱼ is term frequency for term i in document j, and idfᵢ is IDF score for term i."
      ],
      "metadata": {
        "id": "BcDEy4mVJoPo"
      }
    },
    {
      "cell_type": "code",
      "source": [
        "tfidf = TfidfVectorizer()"
      ],
      "metadata": {
        "id": "IsEcG3D0fMGE"
      },
      "execution_count": null,
      "outputs": []
    },
    {
      "cell_type": "code",
      "source": [
        "X = tfidf.fit_transform(X)"
      ],
      "metadata": {
        "id": "WmwJs4x5LTUL"
      },
      "execution_count": null,
      "outputs": []
    },
    {
      "cell_type": "code",
      "source": [
        "print(X)"
      ],
      "metadata": {
        "colab": {
          "base_uri": "https://localhost:8080/"
        },
        "id": "jtjot5dRMyjV",
        "outputId": "61ba9196-a48e-4651-fc25-836ec032f111"
      },
      "execution_count": null,
      "outputs": [
        {
          "output_type": "stream",
          "name": "stdout",
          "text": [
            "  (0, 452)\t0.2527893450771156\n",
            "  (0, 341)\t0.221714115400248\n",
            "  (0, 13242)\t0.22681105601214802\n",
            "  (0, 8329)\t0.22016866775539004\n",
            "  (0, 8129)\t0.25688428990116646\n",
            "  (0, 1143)\t0.2615267554483384\n",
            "  (0, 6623)\t0.15166228960926623\n",
            "  (0, 978)\t0.21459405931249442\n",
            "  (0, 552)\t0.20761737187069065\n",
            "  (0, 11304)\t0.22333146968371728\n",
            "  (0, 13192)\t0.16244539866426566\n",
            "  (0, 11266)\t0.2350295485803124\n",
            "  (0, 1316)\t0.2527893450771156\n",
            "  (0, 14461)\t0.19761557316518416\n",
            "  (0, 4296)\t0.23067802069223262\n",
            "  (0, 14623)\t0.24912629210986972\n",
            "  (0, 9435)\t0.14712533809566203\n",
            "  (0, 6098)\t0.3906448451315794\n",
            "  (0, 4159)\t0.036990694054009246\n",
            "  (0, 2772)\t0.07008337800624968\n",
            "  (0, 3042)\t0.10107356482125734\n",
            "  (1, 7984)\t0.19926350047622196\n",
            "  (1, 5074)\t0.15881759195282208\n",
            "  (1, 5455)\t0.26005463729140177\n",
            "  (1, 278)\t0.20253990390975216\n",
            "  :\t:\n",
            "  (4757, 11875)\t0.17391829275855464\n",
            "  (4757, 9481)\t0.2097939447065153\n",
            "  (4757, 4587)\t0.14519125328802765\n",
            "  (4757, 2538)\t0.1862316778438991\n",
            "  (4757, 7155)\t0.19960099766843914\n",
            "  (4757, 13151)\t0.0874305361405088\n",
            "  (4757, 3800)\t0.06486831081039018\n",
            "  (4757, 4159)\t0.039880801695981585\n",
            "  (4758, 4416)\t0.9445229825786247\n",
            "  (4758, 4159)\t0.32844533088594663\n",
            "  (4759, 9750)\t0.3286995450242791\n",
            "  (4759, 10123)\t0.3286995450242791\n",
            "  (4759, 7629)\t0.3286995450242791\n",
            "  (4759, 90)\t0.3286995450242791\n",
            "  (4759, 12151)\t0.31351148841466714\n",
            "  (4759, 6028)\t0.2648424830668339\n",
            "  (4759, 2616)\t0.31351148841466714\n",
            "  (4759, 9316)\t0.3027353907564623\n",
            "  (4759, 3677)\t0.1772534888692975\n",
            "  (4759, 12141)\t0.19499071637321422\n",
            "  (4759, 4772)\t0.19052018296639517\n",
            "  (4759, 13257)\t0.19005485578238063\n",
            "  (4759, 1221)\t0.20524291239199263\n",
            "  (4759, 9231)\t0.15454863778928116\n",
            "  (4759, 4159)\t0.03985436453058407\n"
          ]
        }
      ]
    },
    {
      "cell_type": "markdown",
      "source": [
        "# Get Similarity Score using Cosine Similarity\n",
        "\n",
        "cosine_similarity computes the L2-normalized dot product of vectors. Euclidean (L2) normalization projects the vectors onto the unit sphere,\n",
        "and their dot product is then the cosine of the angle between the points denoted by the vectors."
      ],
      "metadata": {
        "id": "PII468bgPfTT"
      }
    },
    {
      "cell_type": "code",
      "source": [
        "from sklearn.metrics.pairwise import cosine_simliarity"
      ],
      "metadata": {
        "colab": {
          "base_uri": "https://localhost:8080/",
          "height": 312
        },
        "id": "FlniEwHUM6SV",
        "outputId": "4163efe2-8af0-49e3-be56-e264bde7318d"
      },
      "execution_count": null,
      "outputs": [
        {
          "output_type": "error",
          "ename": "ImportError",
          "evalue": "ignored",
          "traceback": [
            "\u001b[0;31m---------------------------------------------------------------------------\u001b[0m",
            "\u001b[0;31mImportError\u001b[0m                               Traceback (most recent call last)",
            "\u001b[0;32m<ipython-input-24-94f86a7253dd>\u001b[0m in \u001b[0;36m<cell line: 1>\u001b[0;34m()\u001b[0m\n\u001b[0;32m----> 1\u001b[0;31m \u001b[0;32mfrom\u001b[0m \u001b[0msklearn\u001b[0m\u001b[0;34m.\u001b[0m\u001b[0mmetrics\u001b[0m\u001b[0;34m.\u001b[0m\u001b[0mpairwise\u001b[0m \u001b[0;32mimport\u001b[0m \u001b[0mcosine_simliarity\u001b[0m\u001b[0;34m\u001b[0m\u001b[0;34m\u001b[0m\u001b[0m\n\u001b[0m",
            "\u001b[0;31mImportError\u001b[0m: cannot import name 'cosine_simliarity' from 'sklearn.metrics.pairwise' (/usr/local/lib/python3.10/dist-packages/sklearn/metrics/pairwise.py)",
            "",
            "\u001b[0;31m---------------------------------------------------------------------------\u001b[0;32m\nNOTE: If your import is failing due to a missing package, you can\nmanually install dependencies using either !pip or !apt.\n\nTo view examples of installing some common dependencies, click the\n\"Open Examples\" button below.\n\u001b[0;31m---------------------------------------------------------------------------\u001b[0m\n"
          ],
          "errorDetails": {
            "actions": [
              {
                "action": "open_url",
                "actionText": "Open Examples",
                "url": "/notebooks/snippets/importing_libraries.ipynb"
              }
            ]
          }
        }
      ]
    },
    {
      "cell_type": "code",
      "source": [
        "!pip install cosine-similarity "
      ],
      "metadata": {
        "colab": {
          "base_uri": "https://localhost:8080/"
        },
        "id": "c2jP0-PPc61K",
        "outputId": "d32e866d-7a86-4532-c5ec-6053ec44a56c"
      },
      "execution_count": null,
      "outputs": [
        {
          "output_type": "stream",
          "name": "stdout",
          "text": [
            "Looking in indexes: https://pypi.org/simple, https://us-python.pkg.dev/colab-wheels/public/simple/\n",
            "Collecting cosine-similarity\n",
            "  Downloading cosine_similarity-0.1.2-py3-none-any.whl (5.1 kB)\n",
            "Installing collected packages: cosine-similarity\n",
            "Successfully installed cosine-similarity-0.1.2\n"
          ]
        }
      ]
    }
  ]
}